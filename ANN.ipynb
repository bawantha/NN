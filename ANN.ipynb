{
  "nbformat": 4,
  "nbformat_minor": 0,
  "metadata": {
    "colab": {
      "name": "ANN",
      "provenance": [],
      "collapsed_sections": [],
      "authorship_tag": "ABX9TyP2Wy+d08/RLg04tMb6NUmg",
      "include_colab_link": true
    },
    "kernelspec": {
      "name": "python3",
      "display_name": "Python 3"
    }
  },
  "cells": [
    {
      "cell_type": "markdown",
      "metadata": {
        "id": "view-in-github",
        "colab_type": "text"
      },
      "source": [
        "<a href=\"https://colab.research.google.com/github/bawantha/NN/blob/master/ANN.ipynb\" target=\"_parent\"><img src=\"https://colab.research.google.com/assets/colab-badge.svg\" alt=\"Open In Colab\"/></a>"
      ]
    },
    {
      "cell_type": "code",
      "metadata": {
        "id": "YnmpnM3Tassj",
        "colab_type": "code",
        "colab": {}
      },
      "source": [
        "import pandas as pd\n",
        "import numpy as np\n",
        "%matplotlib inline\n",
        "import matplotlib as mpl\n",
        "import matplotlib.pyplot as plt"
      ],
      "execution_count": null,
      "outputs": []
    },
    {
      "cell_type": "code",
      "metadata": {
        "id": "zBrbJnEdbEBv",
        "colab_type": "code",
        "colab": {}
      },
      "source": [
        "import tensorflow as tf\n",
        "from tensorflow import keras"
      ],
      "execution_count": null,
      "outputs": []
    },
    {
      "cell_type": "code",
      "metadata": {
        "id": "frEvVjhcbzHs",
        "colab_type": "code",
        "colab": {
          "base_uri": "https://localhost:8080/",
          "height": 35
        },
        "outputId": "dadc479b-818e-4eb3-ff2a-0368784b49df"
      },
      "source": [
        "tf.__version__"
      ],
      "execution_count": null,
      "outputs": [
        {
          "output_type": "execute_result",
          "data": {
            "application/vnd.google.colaboratory.intrinsic+json": {
              "type": "string"
            },
            "text/plain": [
              "'2.2.0'"
            ]
          },
          "metadata": {
            "tags": []
          },
          "execution_count": 3
        }
      ]
    },
    {
      "cell_type": "code",
      "metadata": {
        "id": "1a2nBIDWb7BI",
        "colab_type": "code",
        "colab": {
          "base_uri": "https://localhost:8080/",
          "height": 35
        },
        "outputId": "7d59d60f-eae8-44b8-c935-f40f44ed0706"
      },
      "source": [
        "keras.__version__"
      ],
      "execution_count": null,
      "outputs": [
        {
          "output_type": "execute_result",
          "data": {
            "application/vnd.google.colaboratory.intrinsic+json": {
              "type": "string"
            },
            "text/plain": [
              "'2.3.0-tf'"
            ]
          },
          "metadata": {
            "tags": []
          },
          "execution_count": 4
        }
      ]
    },
    {
      "cell_type": "code",
      "metadata": {
        "id": "uLrn2iLpb_2T",
        "colab_type": "code",
        "colab": {}
      },
      "source": [
        "fashion_mnist=keras.datasets.fashion_mnist"
      ],
      "execution_count": null,
      "outputs": []
    },
    {
      "cell_type": "code",
      "metadata": {
        "id": "XPmUEcAPdRq7",
        "colab_type": "code",
        "colab": {
          "base_uri": "https://localhost:8080/",
          "height": 151
        },
        "outputId": "6ccfbcc8-2faf-4917-f180-c03fbc8abf89"
      },
      "source": [
        "(x_train,y_train),(x_test,y_test)=fashion_mnist.load_data()"
      ],
      "execution_count": null,
      "outputs": [
        {
          "output_type": "stream",
          "text": [
            "Downloading data from https://storage.googleapis.com/tensorflow/tf-keras-datasets/train-labels-idx1-ubyte.gz\n",
            "32768/29515 [=================================] - 0s 0us/step\n",
            "Downloading data from https://storage.googleapis.com/tensorflow/tf-keras-datasets/train-images-idx3-ubyte.gz\n",
            "26427392/26421880 [==============================] - 0s 0us/step\n",
            "Downloading data from https://storage.googleapis.com/tensorflow/tf-keras-datasets/t10k-labels-idx1-ubyte.gz\n",
            "8192/5148 [===============================================] - 0s 0us/step\n",
            "Downloading data from https://storage.googleapis.com/tensorflow/tf-keras-datasets/t10k-images-idx3-ubyte.gz\n",
            "4423680/4422102 [==============================] - 0s 0us/step\n"
          ],
          "name": "stdout"
        }
      ]
    },
    {
      "cell_type": "code",
      "metadata": {
        "id": "fU3hl32ze94b",
        "colab_type": "code",
        "colab": {
          "base_uri": "https://localhost:8080/",
          "height": 34
        },
        "outputId": "b3a98923-44e2-425c-8808-e1e7367f5f00"
      },
      "source": [
        "y_train[0]"
      ],
      "execution_count": null,
      "outputs": [
        {
          "output_type": "execute_result",
          "data": {
            "text/plain": [
              "9"
            ]
          },
          "metadata": {
            "tags": []
          },
          "execution_count": 7
        }
      ]
    },
    {
      "cell_type": "code",
      "metadata": {
        "id": "hFICW-e6fQdv",
        "colab_type": "code",
        "colab": {}
      },
      "source": [
        "#normilize data"
      ],
      "execution_count": null,
      "outputs": []
    },
    {
      "cell_type": "code",
      "metadata": {
        "id": "tqXSnZUSgBon",
        "colab_type": "code",
        "colab": {}
      },
      "source": [
        "x_train_n=x_train/255.\n",
        "x_test_n=x_test/255."
      ],
      "execution_count": null,
      "outputs": []
    },
    {
      "cell_type": "code",
      "metadata": {
        "id": "ema13k8BgKU5",
        "colab_type": "code",
        "colab": {}
      },
      "source": [
        "x_valid,x_train=x_train_n[:5000],x_train_n[5000:]\n",
        "y_valid,y_train=y_train[:5000],y_train[5000:]"
      ],
      "execution_count": null,
      "outputs": []
    },
    {
      "cell_type": "code",
      "metadata": {
        "id": "1ubLBpV8i2ud",
        "colab_type": "code",
        "colab": {
          "base_uri": "https://localhost:8080/",
          "height": 1000
        },
        "outputId": "b060886c-bea9-4bb5-9005-5516adf1ba32"
      },
      "source": [
        "x_valid[0]"
      ],
      "execution_count": null,
      "outputs": [
        {
          "output_type": "execute_result",
          "data": {
            "text/plain": [
              "array([[0.        , 0.        , 0.        , 0.        , 0.        ,\n",
              "        0.        , 0.        , 0.        , 0.        , 0.        ,\n",
              "        0.        , 0.        , 0.        , 0.        , 0.        ,\n",
              "        0.        , 0.        , 0.        , 0.        , 0.        ,\n",
              "        0.        , 0.        , 0.        , 0.        , 0.        ,\n",
              "        0.        , 0.        , 0.        ],\n",
              "       [0.        , 0.        , 0.        , 0.        , 0.        ,\n",
              "        0.        , 0.        , 0.        , 0.        , 0.        ,\n",
              "        0.        , 0.        , 0.        , 0.        , 0.        ,\n",
              "        0.        , 0.        , 0.        , 0.        , 0.        ,\n",
              "        0.        , 0.        , 0.        , 0.        , 0.        ,\n",
              "        0.        , 0.        , 0.        ],\n",
              "       [0.        , 0.        , 0.        , 0.        , 0.        ,\n",
              "        0.        , 0.        , 0.        , 0.        , 0.        ,\n",
              "        0.        , 0.        , 0.        , 0.        , 0.        ,\n",
              "        0.        , 0.        , 0.        , 0.        , 0.        ,\n",
              "        0.        , 0.        , 0.        , 0.        , 0.        ,\n",
              "        0.        , 0.        , 0.        ],\n",
              "       [0.        , 0.        , 0.        , 0.        , 0.        ,\n",
              "        0.        , 0.        , 0.        , 0.        , 0.        ,\n",
              "        0.        , 0.        , 0.00392157, 0.        , 0.        ,\n",
              "        0.05098039, 0.28627451, 0.        , 0.        , 0.00392157,\n",
              "        0.01568627, 0.        , 0.        , 0.        , 0.        ,\n",
              "        0.00392157, 0.00392157, 0.        ],\n",
              "       [0.        , 0.        , 0.        , 0.        , 0.        ,\n",
              "        0.        , 0.        , 0.        , 0.        , 0.        ,\n",
              "        0.        , 0.        , 0.01176471, 0.        , 0.14117647,\n",
              "        0.53333333, 0.49803922, 0.24313725, 0.21176471, 0.        ,\n",
              "        0.        , 0.        , 0.00392157, 0.01176471, 0.01568627,\n",
              "        0.        , 0.        , 0.01176471],\n",
              "       [0.        , 0.        , 0.        , 0.        , 0.        ,\n",
              "        0.        , 0.        , 0.        , 0.        , 0.        ,\n",
              "        0.        , 0.        , 0.02352941, 0.        , 0.4       ,\n",
              "        0.8       , 0.69019608, 0.5254902 , 0.56470588, 0.48235294,\n",
              "        0.09019608, 0.        , 0.        , 0.        , 0.        ,\n",
              "        0.04705882, 0.03921569, 0.        ],\n",
              "       [0.        , 0.        , 0.        , 0.        , 0.        ,\n",
              "        0.        , 0.        , 0.        , 0.        , 0.        ,\n",
              "        0.        , 0.        , 0.        , 0.        , 0.60784314,\n",
              "        0.9254902 , 0.81176471, 0.69803922, 0.41960784, 0.61176471,\n",
              "        0.63137255, 0.42745098, 0.25098039, 0.09019608, 0.30196078,\n",
              "        0.50980392, 0.28235294, 0.05882353],\n",
              "       [0.        , 0.        , 0.        , 0.        , 0.        ,\n",
              "        0.        , 0.        , 0.        , 0.        , 0.        ,\n",
              "        0.        , 0.00392157, 0.        , 0.27058824, 0.81176471,\n",
              "        0.8745098 , 0.85490196, 0.84705882, 0.84705882, 0.63921569,\n",
              "        0.49803922, 0.4745098 , 0.47843137, 0.57254902, 0.55294118,\n",
              "        0.34509804, 0.6745098 , 0.25882353],\n",
              "       [0.        , 0.        , 0.        , 0.        , 0.        ,\n",
              "        0.        , 0.        , 0.        , 0.        , 0.00392157,\n",
              "        0.00392157, 0.00392157, 0.        , 0.78431373, 0.90980392,\n",
              "        0.90980392, 0.91372549, 0.89803922, 0.8745098 , 0.8745098 ,\n",
              "        0.84313725, 0.83529412, 0.64313725, 0.49803922, 0.48235294,\n",
              "        0.76862745, 0.89803922, 0.        ],\n",
              "       [0.        , 0.        , 0.        , 0.        , 0.        ,\n",
              "        0.        , 0.        , 0.        , 0.        , 0.        ,\n",
              "        0.        , 0.        , 0.        , 0.71764706, 0.88235294,\n",
              "        0.84705882, 0.8745098 , 0.89411765, 0.92156863, 0.89019608,\n",
              "        0.87843137, 0.87058824, 0.87843137, 0.86666667, 0.8745098 ,\n",
              "        0.96078431, 0.67843137, 0.        ],\n",
              "       [0.        , 0.        , 0.        , 0.        , 0.        ,\n",
              "        0.        , 0.        , 0.        , 0.        , 0.        ,\n",
              "        0.        , 0.        , 0.        , 0.75686275, 0.89411765,\n",
              "        0.85490196, 0.83529412, 0.77647059, 0.70588235, 0.83137255,\n",
              "        0.82352941, 0.82745098, 0.83529412, 0.8745098 , 0.8627451 ,\n",
              "        0.95294118, 0.79215686, 0.        ],\n",
              "       [0.        , 0.        , 0.        , 0.        , 0.        ,\n",
              "        0.        , 0.        , 0.        , 0.        , 0.00392157,\n",
              "        0.01176471, 0.        , 0.04705882, 0.85882353, 0.8627451 ,\n",
              "        0.83137255, 0.85490196, 0.75294118, 0.6627451 , 0.89019608,\n",
              "        0.81568627, 0.85490196, 0.87843137, 0.83137255, 0.88627451,\n",
              "        0.77254902, 0.81960784, 0.20392157],\n",
              "       [0.        , 0.        , 0.        , 0.        , 0.        ,\n",
              "        0.        , 0.        , 0.        , 0.        , 0.        ,\n",
              "        0.02352941, 0.        , 0.38823529, 0.95686275, 0.87058824,\n",
              "        0.8627451 , 0.85490196, 0.79607843, 0.77647059, 0.86666667,\n",
              "        0.84313725, 0.83529412, 0.87058824, 0.8627451 , 0.96078431,\n",
              "        0.46666667, 0.65490196, 0.21960784],\n",
              "       [0.        , 0.        , 0.        , 0.        , 0.        ,\n",
              "        0.        , 0.        , 0.        , 0.        , 0.01568627,\n",
              "        0.        , 0.        , 0.21568627, 0.9254902 , 0.89411765,\n",
              "        0.90196078, 0.89411765, 0.94117647, 0.90980392, 0.83529412,\n",
              "        0.85490196, 0.8745098 , 0.91764706, 0.85098039, 0.85098039,\n",
              "        0.81960784, 0.36078431, 0.        ],\n",
              "       [0.        , 0.        , 0.00392157, 0.01568627, 0.02352941,\n",
              "        0.02745098, 0.00784314, 0.        , 0.        , 0.        ,\n",
              "        0.        , 0.        , 0.92941176, 0.88627451, 0.85098039,\n",
              "        0.8745098 , 0.87058824, 0.85882353, 0.87058824, 0.86666667,\n",
              "        0.84705882, 0.8745098 , 0.89803922, 0.84313725, 0.85490196,\n",
              "        1.        , 0.30196078, 0.        ],\n",
              "       [0.        , 0.01176471, 0.        , 0.        , 0.        ,\n",
              "        0.        , 0.        , 0.        , 0.        , 0.24313725,\n",
              "        0.56862745, 0.8       , 0.89411765, 0.81176471, 0.83529412,\n",
              "        0.86666667, 0.85490196, 0.81568627, 0.82745098, 0.85490196,\n",
              "        0.87843137, 0.8745098 , 0.85882353, 0.84313725, 0.87843137,\n",
              "        0.95686275, 0.62352941, 0.        ],\n",
              "       [0.        , 0.        , 0.        , 0.        , 0.07058824,\n",
              "        0.17254902, 0.32156863, 0.41960784, 0.74117647, 0.89411765,\n",
              "        0.8627451 , 0.87058824, 0.85098039, 0.88627451, 0.78431373,\n",
              "        0.80392157, 0.82745098, 0.90196078, 0.87843137, 0.91764706,\n",
              "        0.69019608, 0.7372549 , 0.98039216, 0.97254902, 0.91372549,\n",
              "        0.93333333, 0.84313725, 0.        ],\n",
              "       [0.        , 0.22352941, 0.73333333, 0.81568627, 0.87843137,\n",
              "        0.86666667, 0.87843137, 0.81568627, 0.8       , 0.83921569,\n",
              "        0.81568627, 0.81960784, 0.78431373, 0.62352941, 0.96078431,\n",
              "        0.75686275, 0.80784314, 0.8745098 , 1.        , 1.        ,\n",
              "        0.86666667, 0.91764706, 0.86666667, 0.82745098, 0.8627451 ,\n",
              "        0.90980392, 0.96470588, 0.        ],\n",
              "       [0.01176471, 0.79215686, 0.89411765, 0.87843137, 0.86666667,\n",
              "        0.82745098, 0.82745098, 0.83921569, 0.80392157, 0.80392157,\n",
              "        0.80392157, 0.8627451 , 0.94117647, 0.31372549, 0.58823529,\n",
              "        1.        , 0.89803922, 0.86666667, 0.7372549 , 0.60392157,\n",
              "        0.74901961, 0.82352941, 0.8       , 0.81960784, 0.87058824,\n",
              "        0.89411765, 0.88235294, 0.        ],\n",
              "       [0.38431373, 0.91372549, 0.77647059, 0.82352941, 0.87058824,\n",
              "        0.89803922, 0.89803922, 0.91764706, 0.97647059, 0.8627451 ,\n",
              "        0.76078431, 0.84313725, 0.85098039, 0.94509804, 0.25490196,\n",
              "        0.28627451, 0.41568627, 0.45882353, 0.65882353, 0.85882353,\n",
              "        0.86666667, 0.84313725, 0.85098039, 0.8745098 , 0.8745098 ,\n",
              "        0.87843137, 0.89803922, 0.11372549],\n",
              "       [0.29411765, 0.8       , 0.83137255, 0.8       , 0.75686275,\n",
              "        0.80392157, 0.82745098, 0.88235294, 0.84705882, 0.7254902 ,\n",
              "        0.77254902, 0.80784314, 0.77647059, 0.83529412, 0.94117647,\n",
              "        0.76470588, 0.89019608, 0.96078431, 0.9372549 , 0.8745098 ,\n",
              "        0.85490196, 0.83137255, 0.81960784, 0.87058824, 0.8627451 ,\n",
              "        0.86666667, 0.90196078, 0.2627451 ],\n",
              "       [0.18823529, 0.79607843, 0.71764706, 0.76078431, 0.83529412,\n",
              "        0.77254902, 0.7254902 , 0.74509804, 0.76078431, 0.75294118,\n",
              "        0.79215686, 0.83921569, 0.85882353, 0.86666667, 0.8627451 ,\n",
              "        0.9254902 , 0.88235294, 0.84705882, 0.78039216, 0.80784314,\n",
              "        0.72941176, 0.70980392, 0.69411765, 0.6745098 , 0.70980392,\n",
              "        0.80392157, 0.80784314, 0.45098039],\n",
              "       [0.        , 0.47843137, 0.85882353, 0.75686275, 0.70196078,\n",
              "        0.67058824, 0.71764706, 0.76862745, 0.8       , 0.82352941,\n",
              "        0.83529412, 0.81176471, 0.82745098, 0.82352941, 0.78431373,\n",
              "        0.76862745, 0.76078431, 0.74901961, 0.76470588, 0.74901961,\n",
              "        0.77647059, 0.75294118, 0.69019608, 0.61176471, 0.65490196,\n",
              "        0.69411765, 0.82352941, 0.36078431],\n",
              "       [0.        , 0.        , 0.29019608, 0.74117647, 0.83137255,\n",
              "        0.74901961, 0.68627451, 0.6745098 , 0.68627451, 0.70980392,\n",
              "        0.7254902 , 0.7372549 , 0.74117647, 0.7372549 , 0.75686275,\n",
              "        0.77647059, 0.8       , 0.81960784, 0.82352941, 0.82352941,\n",
              "        0.82745098, 0.7372549 , 0.7372549 , 0.76078431, 0.75294118,\n",
              "        0.84705882, 0.66666667, 0.        ],\n",
              "       [0.00784314, 0.        , 0.        , 0.        , 0.25882353,\n",
              "        0.78431373, 0.87058824, 0.92941176, 0.9372549 , 0.94901961,\n",
              "        0.96470588, 0.95294118, 0.95686275, 0.86666667, 0.8627451 ,\n",
              "        0.75686275, 0.74901961, 0.70196078, 0.71372549, 0.71372549,\n",
              "        0.70980392, 0.69019608, 0.65098039, 0.65882353, 0.38823529,\n",
              "        0.22745098, 0.        , 0.        ],\n",
              "       [0.        , 0.        , 0.        , 0.        , 0.        ,\n",
              "        0.        , 0.        , 0.15686275, 0.23921569, 0.17254902,\n",
              "        0.28235294, 0.16078431, 0.1372549 , 0.        , 0.        ,\n",
              "        0.        , 0.        , 0.        , 0.        , 0.        ,\n",
              "        0.        , 0.        , 0.        , 0.        , 0.        ,\n",
              "        0.        , 0.        , 0.        ],\n",
              "       [0.        , 0.        , 0.        , 0.        , 0.        ,\n",
              "        0.        , 0.        , 0.        , 0.        , 0.        ,\n",
              "        0.        , 0.        , 0.        , 0.        , 0.        ,\n",
              "        0.        , 0.        , 0.        , 0.        , 0.        ,\n",
              "        0.        , 0.        , 0.        , 0.        , 0.        ,\n",
              "        0.        , 0.        , 0.        ],\n",
              "       [0.        , 0.        , 0.        , 0.        , 0.        ,\n",
              "        0.        , 0.        , 0.        , 0.        , 0.        ,\n",
              "        0.        , 0.        , 0.        , 0.        , 0.        ,\n",
              "        0.        , 0.        , 0.        , 0.        , 0.        ,\n",
              "        0.        , 0.        , 0.        , 0.        , 0.        ,\n",
              "        0.        , 0.        , 0.        ]])"
            ]
          },
          "metadata": {
            "tags": []
          },
          "execution_count": 11
        }
      ]
    },
    {
      "cell_type": "code",
      "metadata": {
        "id": "CbZ7aj0DxwwW",
        "colab_type": "code",
        "colab": {}
      },
      "source": [
        "np.random.seed(42)\n",
        "tf.random.set_seed(42)"
      ],
      "execution_count": null,
      "outputs": []
    },
    {
      "cell_type": "code",
      "metadata": {
        "id": "KDjo3zQL3gKI",
        "colab_type": "code",
        "colab": {}
      },
      "source": [
        "model=keras.models.Sequential()\n",
        "model.add(keras.layers.Flatten(input_shape=[28,28]))\n",
        "model.add(keras.layers.Dense(300,activation=\"relu\"))\n",
        "model.add(keras.layers.Dense(100,activation=\"relu\"))\n",
        "model.add(keras.layers.Dense(100,activation=\"softmax\"))"
      ],
      "execution_count": null,
      "outputs": []
    },
    {
      "cell_type": "code",
      "metadata": {
        "id": "ovcJC_SY4rZy",
        "colab_type": "code",
        "colab": {
          "base_uri": "https://localhost:8080/",
          "height": 286
        },
        "outputId": "559daf30-be04-4b01-8079-797cd3a17f85"
      },
      "source": [
        "model.summary()"
      ],
      "execution_count": null,
      "outputs": [
        {
          "output_type": "stream",
          "text": [
            "Model: \"sequential\"\n",
            "_________________________________________________________________\n",
            "Layer (type)                 Output Shape              Param #   \n",
            "=================================================================\n",
            "flatten (Flatten)            (None, 784)               0         \n",
            "_________________________________________________________________\n",
            "dense (Dense)                (None, 300)               235500    \n",
            "_________________________________________________________________\n",
            "dense_1 (Dense)              (None, 100)               30100     \n",
            "_________________________________________________________________\n",
            "dense_2 (Dense)              (None, 100)               10100     \n",
            "=================================================================\n",
            "Total params: 275,700\n",
            "Trainable params: 275,700\n",
            "Non-trainable params: 0\n",
            "_________________________________________________________________\n"
          ],
          "name": "stdout"
        }
      ]
    },
    {
      "cell_type": "code",
      "metadata": {
        "id": "CfLueZ6_45uy",
        "colab_type": "code",
        "colab": {
          "base_uri": "https://localhost:8080/",
          "height": 466
        },
        "outputId": "5acf86b2-8641-48a8-9345-97b3f9831859"
      },
      "source": [
        "import pydot\n",
        "keras.utils.plot_model(model)"
      ],
      "execution_count": null,
      "outputs": [
        {
          "output_type": "execute_result",
          "data": {
            "image/png": "[encoded data removed]",
            "text/plain": [
              "<IPython.core.display.Image object>"
            ]
          },
          "metadata": {
            "tags": []
          },
          "execution_count": 15
        }
      ]
    },
    {
      "cell_type": "code",
      "metadata": {
        "id": "PRb0jW1E5rht",
        "colab_type": "code",
        "colab": {}
      },
      "source": [
        "weight,baise=model.layers[1].get_weights()"
      ],
      "execution_count": null,
      "outputs": []
    },
    {
      "cell_type": "code",
      "metadata": {
        "id": "-1reF0CQ9a3v",
        "colab_type": "code",
        "colab": {
          "base_uri": "https://localhost:8080/",
          "height": 235
        },
        "outputId": "ab0d948c-6cfd-49a4-9d12-6561fd918f46"
      },
      "source": [
        "weight"
      ],
      "execution_count": null,
      "outputs": [
        {
          "output_type": "execute_result",
          "data": {
            "text/plain": [
              "array([[ 0.02448617, -0.00877795, -0.02189048, ..., -0.02766046,\n",
              "         0.03859074, -0.06889391],\n",
              "       [ 0.00476504, -0.03105379, -0.0586676 , ...,  0.00602964,\n",
              "        -0.02763776, -0.04165364],\n",
              "       [-0.06189284, -0.06901957,  0.07102345, ..., -0.04238207,\n",
              "         0.07121518, -0.07331658],\n",
              "       ...,\n",
              "       [-0.03048757,  0.02155137, -0.05400612, ..., -0.00113463,\n",
              "         0.00228987,  0.05581069],\n",
              "       [ 0.07061854, -0.06960931,  0.07038955, ..., -0.00384101,\n",
              "         0.00034875,  0.02878492],\n",
              "       [-0.06022581,  0.01577859, -0.02585464, ..., -0.00527829,\n",
              "         0.00272203, -0.06793761]], dtype=float32)"
            ]
          },
          "metadata": {
            "tags": []
          },
          "execution_count": 17
        }
      ]
    },
    {
      "cell_type": "code",
      "metadata": {
        "id": "BlFx7Obh9fKX",
        "colab_type": "code",
        "colab": {
          "base_uri": "https://localhost:8080/",
          "height": 34
        },
        "outputId": "fbf6e2b2-73e5-48b0-8698-bc50deb368f9"
      },
      "source": [
        "weight.shape"
      ],
      "execution_count": null,
      "outputs": [
        {
          "output_type": "execute_result",
          "data": {
            "text/plain": [
              "(784, 300)"
            ]
          },
          "metadata": {
            "tags": []
          },
          "execution_count": 18
        }
      ]
    },
    {
      "cell_type": "code",
      "metadata": {
        "id": "GHmXCJKi9iS-",
        "colab_type": "code",
        "colab": {}
      },
      "source": [
        "model.compile(loss=\"sparse_categorical_crossentropy\",optimizer=\"sgd\",metrics=[\"accuracy\"])"
      ],
      "execution_count": null,
      "outputs": []
    },
    {
      "cell_type": "code",
      "metadata": {
        "id": "a3x58aPlAeh4",
        "colab_type": "code",
        "colab": {
          "base_uri": "https://localhost:8080/",
          "height": 1000
        },
        "outputId": "b7f3e7ad-1e65-45ce-b94c-71428aa9ae59"
      },
      "source": [
        "model_history=model.fit(x_train,y_train,epochs=30,validation_data=(x_valid,y_valid))"
      ],
      "execution_count": null,
      "outputs": [
        {
          "output_type": "stream",
          "text": [
            "Epoch 1/30\n",
            "1719/1719 [==============================] - 6s 3ms/step - loss: 0.8531 - accuracy: 0.7244 - val_loss: 0.5797 - val_accuracy: 0.8032\n",
            "Epoch 2/30\n",
            "1719/1719 [==============================] - 6s 3ms/step - loss: 0.5233 - accuracy: 0.8168 - val_loss: 0.4634 - val_accuracy: 0.8412\n",
            "Epoch 3/30\n",
            "1719/1719 [==============================] - 6s 3ms/step - loss: 0.4695 - accuracy: 0.8355 - val_loss: 0.6354 - val_accuracy: 0.7706\n",
            "Epoch 4/30\n",
            "1719/1719 [==============================] - 6s 3ms/step - loss: 0.4402 - accuracy: 0.8476 - val_loss: 0.4153 - val_accuracy: 0.8606\n",
            "Epoch 5/30\n",
            "1719/1719 [==============================] - 6s 3ms/step - loss: 0.4199 - accuracy: 0.8531 - val_loss: 0.3968 - val_accuracy: 0.8658\n",
            "Epoch 6/30\n",
            "1719/1719 [==============================] - 6s 3ms/step - loss: 0.4000 - accuracy: 0.8605 - val_loss: 0.3922 - val_accuracy: 0.8684\n",
            "Epoch 7/30\n",
            "1719/1719 [==============================] - 6s 3ms/step - loss: 0.3871 - accuracy: 0.8642 - val_loss: 0.3820 - val_accuracy: 0.8728\n",
            "Epoch 8/30\n",
            "1719/1719 [==============================] - 6s 3ms/step - loss: 0.3744 - accuracy: 0.8676 - val_loss: 0.4208 - val_accuracy: 0.8512\n",
            "Epoch 9/30\n",
            "1719/1719 [==============================] - 6s 3ms/step - loss: 0.3636 - accuracy: 0.8730 - val_loss: 0.3773 - val_accuracy: 0.8646\n",
            "Epoch 10/30\n",
            "1719/1719 [==============================] - 6s 3ms/step - loss: 0.3533 - accuracy: 0.8749 - val_loss: 0.3657 - val_accuracy: 0.8710\n",
            "Epoch 11/30\n",
            "1719/1719 [==============================] - 6s 3ms/step - loss: 0.3443 - accuracy: 0.8783 - val_loss: 0.3601 - val_accuracy: 0.8748\n",
            "Epoch 12/30\n",
            "1719/1719 [==============================] - 6s 4ms/step - loss: 0.3345 - accuracy: 0.8806 - val_loss: 0.3449 - val_accuracy: 0.8786\n",
            "Epoch 13/30\n",
            "1719/1719 [==============================] - 6s 4ms/step - loss: 0.3269 - accuracy: 0.8830 - val_loss: 0.3438 - val_accuracy: 0.8832\n",
            "Epoch 14/30\n",
            "1719/1719 [==============================] - 7s 4ms/step - loss: 0.3205 - accuracy: 0.8856 - val_loss: 0.3600 - val_accuracy: 0.8702\n",
            "Epoch 15/30\n",
            "1719/1719 [==============================] - 7s 4ms/step - loss: 0.3119 - accuracy: 0.8887 - val_loss: 0.3405 - val_accuracy: 0.8796\n",
            "Epoch 16/30\n",
            "1719/1719 [==============================] - 7s 4ms/step - loss: 0.3062 - accuracy: 0.8905 - val_loss: 0.3226 - val_accuracy: 0.8864\n",
            "Epoch 17/30\n",
            "1719/1719 [==============================] - 6s 4ms/step - loss: 0.3006 - accuracy: 0.8930 - val_loss: 0.3692 - val_accuracy: 0.8742\n",
            "Epoch 18/30\n",
            "1719/1719 [==============================] - 6s 3ms/step - loss: 0.2940 - accuracy: 0.8943 - val_loss: 0.3267 - val_accuracy: 0.8876\n",
            "Epoch 19/30\n",
            "1719/1719 [==============================] - 6s 3ms/step - loss: 0.2885 - accuracy: 0.8969 - val_loss: 0.3200 - val_accuracy: 0.8886\n",
            "Epoch 20/30\n",
            "1719/1719 [==============================] - 6s 4ms/step - loss: 0.2831 - accuracy: 0.8978 - val_loss: 0.3451 - val_accuracy: 0.8770\n",
            "Epoch 21/30\n",
            "1719/1719 [==============================] - 6s 3ms/step - loss: 0.2778 - accuracy: 0.8996 - val_loss: 0.3162 - val_accuracy: 0.8888\n",
            "Epoch 22/30\n",
            "1719/1719 [==============================] - 6s 4ms/step - loss: 0.2726 - accuracy: 0.9020 - val_loss: 0.3083 - val_accuracy: 0.8904\n",
            "Epoch 23/30\n",
            "1719/1719 [==============================] - 6s 3ms/step - loss: 0.2683 - accuracy: 0.9034 - val_loss: 0.3095 - val_accuracy: 0.8924\n",
            "Epoch 24/30\n",
            "1719/1719 [==============================] - 6s 3ms/step - loss: 0.2636 - accuracy: 0.9044 - val_loss: 0.3162 - val_accuracy: 0.8840\n",
            "Epoch 25/30\n",
            "1719/1719 [==============================] - 6s 3ms/step - loss: 0.2591 - accuracy: 0.9068 - val_loss: 0.3080 - val_accuracy: 0.8912\n",
            "Epoch 26/30\n",
            "1719/1719 [==============================] - 6s 3ms/step - loss: 0.2545 - accuracy: 0.9092 - val_loss: 0.3114 - val_accuracy: 0.8910\n",
            "Epoch 27/30\n",
            "1719/1719 [==============================] - 6s 3ms/step - loss: 0.2508 - accuracy: 0.9100 - val_loss: 0.3028 - val_accuracy: 0.8946\n",
            "Epoch 28/30\n",
            "1719/1719 [==============================] - 6s 3ms/step - loss: 0.2470 - accuracy: 0.9112 - val_loss: 0.3110 - val_accuracy: 0.8902\n",
            "Epoch 29/30\n",
            "1719/1719 [==============================] - 6s 3ms/step - loss: 0.2422 - accuracy: 0.9132 - val_loss: 0.3174 - val_accuracy: 0.8836\n",
            "Epoch 30/30\n",
            "1719/1719 [==============================] - 6s 4ms/step - loss: 0.2382 - accuracy: 0.9150 - val_loss: 0.3251 - val_accuracy: 0.8850\n"
          ],
          "name": "stdout"
        }
      ]
    },
    {
      "cell_type": "code",
      "metadata": {
        "id": "4g-MtkHJy7Q3",
        "colab_type": "code",
        "colab": {
          "base_uri": "https://localhost:8080/",
          "height": 34
        },
        "outputId": "604bec53-d3b2-404c-9672-2960035e4622"
      },
      "source": [
        "model_history.params"
      ],
      "execution_count": null,
      "outputs": [
        {
          "output_type": "execute_result",
          "data": {
            "text/plain": [
              "{'epochs': 30, 'steps': 1719, 'verbose': 1}"
            ]
          },
          "metadata": {
            "tags": []
          },
          "execution_count": 21
        }
      ]
    },
    {
      "cell_type": "code",
      "metadata": {
        "id": "88_4s1SKARBU",
        "colab_type": "code",
        "colab": {
          "base_uri": "https://localhost:8080/",
          "height": 1000
        },
        "outputId": "1e94eeb2-ec0d-47c3-f2af-fb52148c4a54"
      },
      "source": [
        "model_history.history"
      ],
      "execution_count": null,
      "outputs": [
        {
          "output_type": "execute_result",
          "data": {
            "text/plain": [
              "{'accuracy': [0.7243818044662476,\n",
              "  0.8168363571166992,\n",
              "  0.835454523563385,\n",
              "  0.847636342048645,\n",
              "  0.8530908823013306,\n",
              "  0.8605272769927979,\n",
              "  0.8642181754112244,\n",
              "  0.867618203163147,\n",
              "  0.873018205165863,\n",
              "  0.874854564666748,\n",
              "  0.8783272504806519,\n",
              "  0.8805999755859375,\n",
              "  0.8830363750457764,\n",
              "  0.8855999708175659,\n",
              "  0.8886545300483704,\n",
              "  0.8905272483825684,\n",
              "  0.8930181860923767,\n",
              "  0.8942545652389526,\n",
              "  0.8969272971153259,\n",
              "  0.8978000283241272,\n",
              "  0.8996182084083557,\n",
              "  0.9020000100135803,\n",
              "  0.9033636450767517,\n",
              "  0.9044181704521179,\n",
              "  0.9068182110786438,\n",
              "  0.9091818332672119,\n",
              "  0.9099818468093872,\n",
              "  0.9111818075180054,\n",
              "  0.9132182002067566,\n",
              "  0.9150000214576721],\n",
              " 'loss': [0.85306316614151,\n",
              "  0.5232840180397034,\n",
              "  0.46952593326568604,\n",
              "  0.4401828348636627,\n",
              "  0.4199288487434387,\n",
              "  0.3999517858028412,\n",
              "  0.38714107871055603,\n",
              "  0.3744364380836487,\n",
              "  0.3635626435279846,\n",
              "  0.35331955552101135,\n",
              "  0.3443448841571808,\n",
              "  0.33448150753974915,\n",
              "  0.3268941342830658,\n",
              "  0.3205069601535797,\n",
              "  0.311909556388855,\n",
              "  0.3062339127063751,\n",
              "  0.3005640208721161,\n",
              "  0.29398903250694275,\n",
              "  0.28852391242980957,\n",
              "  0.28310567140579224,\n",
              "  0.2777986228466034,\n",
              "  0.2725928723812103,\n",
              "  0.2683052718639374,\n",
              "  0.2636111378669739,\n",
              "  0.25913935899734497,\n",
              "  0.25454914569854736,\n",
              "  0.25075384974479675,\n",
              "  0.24697603285312653,\n",
              "  0.2422214299440384,\n",
              "  0.23821555078029633],\n",
              " 'val_accuracy': [0.8032000064849854,\n",
              "  0.8411999940872192,\n",
              "  0.7706000208854675,\n",
              "  0.8605999946594238,\n",
              "  0.8658000230789185,\n",
              "  0.868399977684021,\n",
              "  0.8727999925613403,\n",
              "  0.8511999845504761,\n",
              "  0.8646000027656555,\n",
              "  0.8709999918937683,\n",
              "  0.8748000264167786,\n",
              "  0.878600001335144,\n",
              "  0.8831999897956848,\n",
              "  0.870199978351593,\n",
              "  0.8795999884605408,\n",
              "  0.8863999843597412,\n",
              "  0.8741999864578247,\n",
              "  0.8876000046730042,\n",
              "  0.8885999917984009,\n",
              "  0.8769999742507935,\n",
              "  0.8888000249862671,\n",
              "  0.8903999924659729,\n",
              "  0.8924000263214111,\n",
              "  0.8840000033378601,\n",
              "  0.8912000060081482,\n",
              "  0.890999972820282,\n",
              "  0.894599974155426,\n",
              "  0.8902000188827515,\n",
              "  0.8835999965667725,\n",
              "  0.8849999904632568],\n",
              " 'val_loss': [0.5796942710876465,\n",
              "  0.46337851881980896,\n",
              "  0.6354153752326965,\n",
              "  0.4153446853160858,\n",
              "  0.39678189158439636,\n",
              "  0.39221346378326416,\n",
              "  0.38196247816085815,\n",
              "  0.42077508568763733,\n",
              "  0.3772676885128021,\n",
              "  0.36573895812034607,\n",
              "  0.3600638508796692,\n",
              "  0.3449133634567261,\n",
              "  0.3437570035457611,\n",
              "  0.3599550724029541,\n",
              "  0.3405010402202606,\n",
              "  0.3225560188293457,\n",
              "  0.3691585659980774,\n",
              "  0.3266680836677551,\n",
              "  0.32000699639320374,\n",
              "  0.34508904814720154,\n",
              "  0.3161998987197876,\n",
              "  0.3082755506038666,\n",
              "  0.3095066547393799,\n",
              "  0.3161669075489044,\n",
              "  0.30799371004104614,\n",
              "  0.3114376664161682,\n",
              "  0.3027854859828949,\n",
              "  0.3110083043575287,\n",
              "  0.31742650270462036,\n",
              "  0.32506081461906433]}"
            ]
          },
          "metadata": {
            "tags": []
          },
          "execution_count": 22
        }
      ]
    },
    {
      "cell_type": "code",
      "metadata": {
        "id": "OSs5NGNbpDSd",
        "colab_type": "code",
        "colab": {
          "base_uri": "https://localhost:8080/",
          "height": 50
        },
        "outputId": "bf1e03a6-b1f3-4cdd-b3f2-de2f347281ff"
      },
      "source": [
        "model.evaluate(x_test,y_test)"
      ],
      "execution_count": null,
      "outputs": [
        {
          "output_type": "stream",
          "text": [
            "313/313 [==============================] - 1s 2ms/step - loss: 83.5240 - accuracy: 0.8244\n"
          ],
          "name": "stdout"
        },
        {
          "output_type": "execute_result",
          "data": {
            "text/plain": [
              "[83.52404022216797, 0.824400007724762]"
            ]
          },
          "metadata": {
            "tags": []
          },
          "execution_count": 23
        }
      ]
    },
    {
      "cell_type": "code",
      "metadata": {
        "id": "r6_S0fzPpQDu",
        "colab_type": "code",
        "colab": {
          "base_uri": "https://localhost:8080/",
          "height": 34
        },
        "outputId": "d5d40ea3-3f40-4bc1-ce1e-7015aa9eadd1"
      },
      "source": [
        "from sklearn.datasets import fetch_california_housing\n",
        "housing=fetch_california_housing()"
      ],
      "execution_count": 24,
      "outputs": [
        {
          "output_type": "stream",
          "text": [
            "Downloading Cal. housing from https://ndownloader.figshare.com/files/5976036 to /root/scikit_learn_data\n"
          ],
          "name": "stderr"
        }
      ]
    },
    {
      "cell_type": "code",
      "metadata": {
        "id": "UHMwm69iyC2B",
        "colab_type": "code",
        "colab": {
          "base_uri": "https://localhost:8080/",
          "height": 151
        },
        "outputId": "e1fd736a-bfd1-4cb0-b861-7208c9e4d784"
      },
      "source": [
        "housing.feature_names"
      ],
      "execution_count": 26,
      "outputs": [
        {
          "output_type": "execute_result",
          "data": {
            "text/plain": [
              "['MedInc',\n",
              " 'HouseAge',\n",
              " 'AveRooms',\n",
              " 'AveBedrms',\n",
              " 'Population',\n",
              " 'AveOccup',\n",
              " 'Latitude',\n",
              " 'Longitude']"
            ]
          },
          "metadata": {
            "tags": []
          },
          "execution_count": 26
        }
      ]
    },
    {
      "cell_type": "code",
      "metadata": {
        "id": "0En-NZ9lyF8N",
        "colab_type": "code",
        "colab": {
          "base_uri": "https://localhost:8080/",
          "height": 235
        },
        "outputId": "b403cfad-b5d0-49d1-de91-4ef021bf21f2"
      },
      "source": [
        "housing.data"
      ],
      "execution_count": 27,
      "outputs": [
        {
          "output_type": "execute_result",
          "data": {
            "text/plain": [
              "array([[   8.3252    ,   41.        ,    6.98412698, ...,    2.55555556,\n",
              "          37.88      , -122.23      ],\n",
              "       [   8.3014    ,   21.        ,    6.23813708, ...,    2.10984183,\n",
              "          37.86      , -122.22      ],\n",
              "       [   7.2574    ,   52.        ,    8.28813559, ...,    2.80225989,\n",
              "          37.85      , -122.24      ],\n",
              "       ...,\n",
              "       [   1.7       ,   17.        ,    5.20554273, ...,    2.3256351 ,\n",
              "          39.43      , -121.22      ],\n",
              "       [   1.8672    ,   18.        ,    5.32951289, ...,    2.12320917,\n",
              "          39.43      , -121.32      ],\n",
              "       [   2.3886    ,   16.        ,    5.25471698, ...,    2.61698113,\n",
              "          39.37      , -121.24      ]])"
            ]
          },
          "metadata": {
            "tags": []
          },
          "execution_count": 27
        }
      ]
    },
    {
      "cell_type": "code",
      "metadata": {
        "id": "Qd3lWy2TyM-k",
        "colab_type": "code",
        "colab": {}
      },
      "source": [
        "from sklearn.model_selection import train_test_split\n",
        "x_train_full,x_test,y_train_full,y_test=train_test_split(housing.data,housing.target,random_state=42)\n",
        "x_train,x_valid,y_train,y_valid=train_test_split(x_train_full,y_train_full)"
      ],
      "execution_count": 28,
      "outputs": []
    },
    {
      "cell_type": "code",
      "metadata": {
        "id": "xIANTVxSzB8e",
        "colab_type": "code",
        "colab": {}
      },
      "source": [
        "from sklearn.preprocessing import StandardScaler\n",
        "scaler=StandardScaler()\n",
        "x_train=scaler.fit_transform(x_train)\n",
        "x_valid=scaler.transform(x_valid)\n",
        "x_test=scaler.transform(x_test)"
      ],
      "execution_count": 29,
      "outputs": []
    },
    {
      "cell_type": "code",
      "metadata": {
        "id": "5cj0zjZK0YVT",
        "colab_type": "code",
        "colab": {
          "base_uri": "https://localhost:8080/",
          "height": 34
        },
        "outputId": "cfbfb4b4-2ce6-429b-b77a-1f127862c834"
      },
      "source": [
        "x_train.shape"
      ],
      "execution_count": 31,
      "outputs": [
        {
          "output_type": "execute_result",
          "data": {
            "text/plain": [
              "(11610, 8)"
            ]
          },
          "metadata": {
            "tags": []
          },
          "execution_count": 31
        }
      ]
    },
    {
      "cell_type": "code",
      "metadata": {
        "id": "WfbiQHQ90eOf",
        "colab_type": "code",
        "colab": {}
      },
      "source": [
        "model=keras.models.Sequential([\n",
        "                             keras.layers.Dense(30, input_shape=[8],activation=\"relu\"),\n",
        "                             keras.layers.Dense(30,activation=\"relu\"),\n",
        "                             keras.layers.Dense(1),\n",
        "\n",
        "\n",
        "])"
      ],
      "execution_count": 33,
      "outputs": []
    },
    {
      "cell_type": "code",
      "metadata": {
        "id": "rmG3KC0k1lHv",
        "colab_type": "code",
        "colab": {
          "base_uri": "https://localhost:8080/",
          "height": 252
        },
        "outputId": "280c3609-cdae-4a6a-f297-4ea6041a34f8"
      },
      "source": [
        "model.summary()"
      ],
      "execution_count": 35,
      "outputs": [
        {
          "output_type": "stream",
          "text": [
            "Model: \"sequential_1\"\n",
            "_________________________________________________________________\n",
            "Layer (type)                 Output Shape              Param #   \n",
            "=================================================================\n",
            "dense_3 (Dense)              (None, 30)                270       \n",
            "_________________________________________________________________\n",
            "dense_4 (Dense)              (None, 30)                930       \n",
            "_________________________________________________________________\n",
            "dense_5 (Dense)              (None, 1)                 31        \n",
            "=================================================================\n",
            "Total params: 1,231\n",
            "Trainable params: 1,231\n",
            "Non-trainable params: 0\n",
            "_________________________________________________________________\n"
          ],
          "name": "stdout"
        }
      ]
    },
    {
      "cell_type": "code",
      "metadata": {
        "id": "ObBhwoMT2T62",
        "colab_type": "code",
        "colab": {}
      },
      "source": [
        "model.compile(loss=\"mean_squared_error\",optimizer=keras.optimizers.SGD(learning_rate=1e-3),metrics=[\"mae\"])"
      ],
      "execution_count": 36,
      "outputs": []
    },
    {
      "cell_type": "code",
      "metadata": {
        "id": "zvOm9-OF2-ii",
        "colab_type": "code",
        "colab": {
          "base_uri": "https://localhost:8080/",
          "height": 1000
        },
        "outputId": "a3c4c396-b269-4c02-98a4-b132de0bf598"
      },
      "source": [
        "model_history=model.fit(x_train,y_train,epochs=30,validation_data=(x_valid,y_valid))"
      ],
      "execution_count": 37,
      "outputs": [
        {
          "output_type": "stream",
          "text": [
            "Epoch 1/30\n",
            "363/363 [==============================] - 1s 2ms/step - loss: 1.8542 - mae: 0.9889 - val_loss: 1.3779 - val_mae: 0.7073\n",
            "Epoch 2/30\n",
            "363/363 [==============================] - 1s 2ms/step - loss: 0.7854 - mae: 0.6648 - val_loss: 0.6885 - val_mae: 0.6238\n",
            "Epoch 3/30\n",
            "363/363 [==============================] - 1s 2ms/step - loss: 0.6817 - mae: 0.6182 - val_loss: 0.6645 - val_mae: 0.5892\n",
            "Epoch 4/30\n",
            "363/363 [==============================] - 1s 2ms/step - loss: 0.6283 - mae: 0.5894 - val_loss: 0.5944 - val_mae: 0.5685\n",
            "Epoch 5/30\n",
            "363/363 [==============================] - 1s 2ms/step - loss: 0.5868 - mae: 0.5671 - val_loss: 0.5505 - val_mae: 0.5434\n",
            "Epoch 6/30\n",
            "363/363 [==============================] - 1s 2ms/step - loss: 0.5510 - mae: 0.5486 - val_loss: 0.5211 - val_mae: 0.5268\n",
            "Epoch 7/30\n",
            "363/363 [==============================] - 1s 2ms/step - loss: 0.5225 - mae: 0.5324 - val_loss: 0.5055 - val_mae: 0.5115\n",
            "Epoch 8/30\n",
            "363/363 [==============================] - 1s 2ms/step - loss: 0.4993 - mae: 0.5192 - val_loss: 0.4648 - val_mae: 0.4966\n",
            "Epoch 9/30\n",
            "363/363 [==============================] - 1s 2ms/step - loss: 0.4803 - mae: 0.5081 - val_loss: 0.4442 - val_mae: 0.4850\n",
            "Epoch 10/30\n",
            "363/363 [==============================] - 1s 2ms/step - loss: 0.4649 - mae: 0.4985 - val_loss: 0.4304 - val_mae: 0.4750\n",
            "Epoch 11/30\n",
            "363/363 [==============================] - 1s 2ms/step - loss: 0.4528 - mae: 0.4899 - val_loss: 0.4183 - val_mae: 0.4708\n",
            "Epoch 12/30\n",
            "363/363 [==============================] - 1s 2ms/step - loss: 0.4425 - mae: 0.4837 - val_loss: 0.4100 - val_mae: 0.4632\n",
            "Epoch 13/30\n",
            "363/363 [==============================] - 1s 1ms/step - loss: 0.4342 - mae: 0.4786 - val_loss: 0.4051 - val_mae: 0.4605\n",
            "Epoch 14/30\n",
            "363/363 [==============================] - 1s 2ms/step - loss: 0.4269 - mae: 0.4731 - val_loss: 0.4001 - val_mae: 0.4572\n",
            "Epoch 15/30\n",
            "363/363 [==============================] - 1s 2ms/step - loss: 0.4208 - mae: 0.4696 - val_loss: 0.3987 - val_mae: 0.4533\n",
            "Epoch 16/30\n",
            "363/363 [==============================] - 1s 2ms/step - loss: 0.4154 - mae: 0.4662 - val_loss: 0.3908 - val_mae: 0.4498\n",
            "Epoch 17/30\n",
            "363/363 [==============================] - 1s 2ms/step - loss: 0.4109 - mae: 0.4628 - val_loss: 0.4004 - val_mae: 0.4476\n",
            "Epoch 18/30\n",
            "363/363 [==============================] - 1s 2ms/step - loss: 0.4070 - mae: 0.4601 - val_loss: 0.3939 - val_mae: 0.4442\n",
            "Epoch 19/30\n",
            "363/363 [==============================] - 1s 2ms/step - loss: 0.4031 - mae: 0.4571 - val_loss: 0.3909 - val_mae: 0.4423\n",
            "Epoch 20/30\n",
            "363/363 [==============================] - 1s 2ms/step - loss: 0.4002 - mae: 0.4550 - val_loss: 0.4167 - val_mae: 0.4461\n",
            "Epoch 21/30\n",
            "363/363 [==============================] - 1s 2ms/step - loss: 0.3972 - mae: 0.4531 - val_loss: 0.4131 - val_mae: 0.4455\n",
            "Epoch 22/30\n",
            "363/363 [==============================] - 1s 2ms/step - loss: 0.3947 - mae: 0.4514 - val_loss: 0.4209 - val_mae: 0.4452\n",
            "Epoch 23/30\n",
            "363/363 [==============================] - 1s 2ms/step - loss: 0.3923 - mae: 0.4504 - val_loss: 0.3815 - val_mae: 0.4345\n",
            "Epoch 24/30\n",
            "363/363 [==============================] - 1s 2ms/step - loss: 0.3901 - mae: 0.4477 - val_loss: 0.3955 - val_mae: 0.4366\n",
            "Epoch 25/30\n",
            "363/363 [==============================] - 1s 2ms/step - loss: 0.3880 - mae: 0.4468 - val_loss: 0.4081 - val_mae: 0.4374\n",
            "Epoch 26/30\n",
            "363/363 [==============================] - 1s 2ms/step - loss: 0.3862 - mae: 0.4453 - val_loss: 0.4143 - val_mae: 0.4377\n",
            "Epoch 27/30\n",
            "363/363 [==============================] - 1s 2ms/step - loss: 0.3847 - mae: 0.4443 - val_loss: 0.3781 - val_mae: 0.4332\n",
            "Epoch 28/30\n",
            "363/363 [==============================] - 1s 2ms/step - loss: 0.3829 - mae: 0.4426 - val_loss: 0.3959 - val_mae: 0.4371\n",
            "Epoch 29/30\n",
            "363/363 [==============================] - 1s 2ms/step - loss: 0.3815 - mae: 0.4419 - val_loss: 0.3860 - val_mae: 0.4348\n",
            "Epoch 30/30\n",
            "363/363 [==============================] - 1s 2ms/step - loss: 0.3799 - mae: 0.4408 - val_loss: 0.4012 - val_mae: 0.4336\n"
          ],
          "name": "stdout"
        }
      ]
    },
    {
      "cell_type": "code",
      "metadata": {
        "id": "z3S67EY83Tnf",
        "colab_type": "code",
        "colab": {
          "base_uri": "https://localhost:8080/",
          "height": 34
        },
        "outputId": "601edae7-3d49-4437-a1e9-dfcd3f7fa30d"
      },
      "source": [
        "mae_test=model.evaluate(x_test,y_test)"
      ],
      "execution_count": 38,
      "outputs": [
        {
          "output_type": "stream",
          "text": [
            "162/162 [==============================] - 0s 1ms/step - loss: 0.3754 - mae: 0.4393\n"
          ],
          "name": "stdout"
        }
      ]
    },
    {
      "cell_type": "code",
      "metadata": {
        "id": "zWgFwvw25o_c",
        "colab_type": "code",
        "colab": {}
      },
      "source": [
        ""
      ],
      "execution_count": null,
      "outputs": []
    }
  ]
}